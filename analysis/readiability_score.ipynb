{
 "cells": [
  {
   "cell_type": "code",
   "execution_count": 1,
   "metadata": {},
   "outputs": [],
   "source": [
    "import readability\n",
    "import json\n",
    "import pandas as pd\n",
    "import matplotlib.pyplot as plt"
   ]
  },
  {
   "cell_type": "code",
   "execution_count": 2,
   "metadata": {},
   "outputs": [],
   "source": [
    "#Create a dataframe with all stories and their generations\n",
    "\n",
    "all_stories = json.load(open('../books/real_processed.json'))\n",
    "all_stories_opt = pd.DataFrame(all_stories)\n",
    "all_stories_llama = pd.DataFrame(all_stories)\n",
    "all_stories_alpaca = pd.DataFrame(all_stories)\n",
    "\n",
    "# Load OPT stories\n",
    "gen_stories = json.load(open('../books/from_server/gen_stories_opt.json'))\n",
    "gen_stories = pd.DataFrame(gen_stories)\n",
    "all_stories_opt = all_stories_opt.merge(gen_stories, on=['id'], how='left')\n",
    "\n",
    "# Load LLaMA stories\n",
    "gen_stories = json.load(open('../books/from_server/gen_stories_llama.json'))\n",
    "gen_stories = pd.DataFrame(gen_stories)\n",
    "all_stories_llama = all_stories_llama.merge(gen_stories, on=['id'], how='left')\n",
    "\n",
    "# Load Alpaca stories\n",
    "gen_stories = json.load(open('../books/from_server/gen_stories_alpaca.json'))\n",
    "gen_stories = pd.DataFrame(gen_stories)\n",
    "all_stories_alpaca = all_stories_alpaca.merge(gen_stories, on=['id'], how='left')\n",
    "free_stories_alpaca = gen_stories.loc[gen_stories.gen_id.isnull()].copy()\n",
    "\n",
    "original_stories = list(set(all_stories_opt.text.to_list()))\n",
    "\n",
    "all_stories_opt['story_score'] = 0\n",
    "all_stories_opt['gen_story_score'] = 0\n",
    "\n",
    "all_stories_llama['story_score'] = 0\n",
    "all_stories_llama['gen_story_score'] = 0\n",
    "\n",
    "all_stories_alpaca['story_score'] = 0\n",
    "all_stories_alpaca['gen_story_score'] = 0\n",
    "free_stories_alpaca['gen_story_score'] = 0"
   ]
  },
  {
   "cell_type": "code",
   "execution_count": 3,
   "metadata": {},
   "outputs": [],
   "source": [
    "for i, story in all_stories_opt.iterrows():\n",
    "    s = story['text']\n",
    "    s_gen = story['gen_text']\n",
    "    all_stories_opt.loc[i,'story_score'] = readability.getmeasures(s, lang='en')['readability grades']['FleschReadingEase']\n",
    "    all_stories_opt.loc[i,'gen_story_score'] = readability.getmeasures(s_gen, lang='en')['readability grades']['FleschReadingEase']\n",
    "\n",
    "for i, story in all_stories_llama.iterrows():\n",
    "    s = story['text']\n",
    "    s_gen = story['gen_text']\n",
    "    all_stories_llama.loc[i,'story_score'] = readability.getmeasures(s, lang='en')['readability grades']['FleschReadingEase']\n",
    "    all_stories_llama.loc[i,'gen_story_score'] = readability.getmeasures(s_gen, lang='en')['readability grades']['FleschReadingEase']\n",
    "\n",
    "for i, story in all_stories_alpaca.iterrows():\n",
    "    s = story['text']\n",
    "    s_gen = story['gen_text']\n",
    "    all_stories_alpaca.loc[i,'story_score'] = readability.getmeasures(s, lang='en')['readability grades']['FleschReadingEase']\n",
    "    all_stories_alpaca.loc[i,'gen_story_score'] = readability.getmeasures(s_gen, lang='en')['readability grades']['FleschReadingEase']\n",
    "\n",
    "for i, story in free_stories_alpaca.iterrows():\n",
    "    s_gen = story['gen_text']\n",
    "    free_stories_alpaca.loc[i,'gen_story_score'] = readability.getmeasures(s_gen, lang='en')['readability grades']['FleschReadingEase']"
   ]
  },
  {
   "cell_type": "code",
   "execution_count": 7,
   "metadata": {},
   "outputs": [],
   "source": [
    "original_stories_score = []\n",
    "\n",
    "for s in original_stories:\n",
    "    original_stories_score.append(readability.getmeasures(s, lang='en')['readability grades']['FleschReadingEase'])"
   ]
  },
  {
   "cell_type": "code",
   "execution_count": 13,
   "metadata": {},
   "outputs": [],
   "source": [
    "opt_first_line_scores = all_stories_opt[all_stories_opt.p_length == 'first_line']['gen_story_score'].values\n",
    "opt_first_256_tokens_scores = all_stories_opt[all_stories_opt.p_length == '256_tokens']['gen_story_score'].values\n",
    "opt_first_512_tokens_scores = all_stories_opt[all_stories_opt.p_length == '512_tokens']['gen_story_score'].values\n",
    "\n",
    "llama_first_line_scores = all_stories_llama[all_stories_llama.p_length == 'first_line']['gen_story_score'].values\n",
    "llama_first_256_tokens_scores = all_stories_llama[all_stories_llama.p_length == '256_tokens']['gen_story_score'].values\n",
    "llama_first_512_tokens_scores = all_stories_llama[all_stories_llama.p_length == '512_tokens']['gen_story_score'].values\n",
    "\n",
    "alpaca_t_1_scores = all_stories_alpaca[all_stories_alpaca.t_type == 1]['gen_story_score'].values\n",
    "alpaca_t_3_scores = all_stories_alpaca[all_stories_alpaca.t_type == 3]['gen_story_score'].values\n",
    "\n",
    "alpaca_free_t_2_scores = free_stories_alpaca[free_stories_alpaca.t_type == 2]['gen_story_score'].values\n",
    "alpaca_free_t_4_scores = free_stories_alpaca[free_stories_alpaca.t_type == 4]['gen_story_score'].values"
   ]
  },
  {
   "cell_type": "code",
   "execution_count": 16,
   "metadata": {},
   "outputs": [
    {
     "name": "stderr",
     "output_type": "stream",
     "text": [
      "/var/folders/hm/fpq61bcd7vvgs4q8dtq8qn6m0000gp/T/ipykernel_13895/4028666049.py:11: UserWarning: FixedFormatter should only be used together with FixedLocator\n",
      "  axes.set_xticklabels(['OPT: First Line','OPT: First 256 Tokens','OPT: First 512 Tokens'])\n"
     ]
    },
    {
     "data": {
      "image/png": "[encoded data removed]",
      "text/plain": [
       "<Figure size 640x480 with 1 Axes>"
      ]
     },
     "metadata": {},
     "output_type": "display_data"
    }
   ],
   "source": [
    "fig, axes = plt.subplots()\n",
    "\n",
    "axes.violinplot(\n",
    "    dataset = [\n",
    "    [x for x in opt_first_line_scores if x >= 0 and x <= 100 ],\n",
    "    [x for x in opt_first_line_scores if x >= 0 and x <= 100 ]\n",
    "    ] \n",
    ")\n",
    "\n",
    "# axes.set_title('Day Ahead Market')\n",
    "axes.yaxis.grid(True)\n",
    "axes.set_xlabel('Scenario')\n",
    "axes.set_ylabel('Flesch Reading Ease')\n",
    "axes.set_xticklabels(['OPT: First Line','OPT: First 256 Tokens','OPT: First 512 Tokens'])\n",
    "\n",
    "plt.show()"
   ]
  },
  {
   "cell_type": "code",
   "execution_count": 53,
   "metadata": {},
   "outputs": [
    {
     "name": "stderr",
     "output_type": "stream",
     "text": [
      "/var/folders/hm/fpq61bcd7vvgs4q8dtq8qn6m0000gp/T/ipykernel_8441/1091192457.py:1: FutureWarning: The default value of numeric_only in DataFrameGroupBy.mean is deprecated. In a future version, numeric_only will default to False. Either specify numeric_only or select only columns which should be valid for the function.\n",
      "  all_stories_opt.groupby(by=['p_length']).mean()\n"
     ]
    },
    {
     "data": {
      "text/html": [
       "<div>\n",
       "<style scoped>\n",
       "    .dataframe tbody tr th:only-of-type {\n",
       "        vertical-align: middle;\n",
       "    }\n",
       "\n",
       "    .dataframe tbody tr th {\n",
       "        vertical-align: top;\n",
       "    }\n",
       "\n",
       "    .dataframe thead th {\n",
       "        text-align: right;\n",
       "    }\n",
       "</style>\n",
       "<table border=\"1\" class=\"dataframe\">\n",
       "  <thead>\n",
       "    <tr style=\"text-align: right;\">\n",
       "      <th></th>\n",
       "      <th>id</th>\n",
       "      <th>gen_id</th>\n",
       "      <th>story_score</th>\n",
       "      <th>gen_story_score</th>\n",
       "    </tr>\n",
       "    <tr>\n",
       "      <th>p_length</th>\n",
       "      <th></th>\n",
       "      <th></th>\n",
       "      <th></th>\n",
       "      <th></th>\n",
       "    </tr>\n",
       "  </thead>\n",
       "  <tbody>\n",
       "    <tr>\n",
       "      <th>256_tokens</th>\n",
       "      <td>3.0</td>\n",
       "      <td>7.0</td>\n",
       "      <td>80.116085</td>\n",
       "      <td>77.548570</td>\n",
       "    </tr>\n",
       "    <tr>\n",
       "      <th>512_tokens</th>\n",
       "      <td>3.0</td>\n",
       "      <td>12.0</td>\n",
       "      <td>80.116085</td>\n",
       "      <td>75.679659</td>\n",
       "    </tr>\n",
       "    <tr>\n",
       "      <th>first_line</th>\n",
       "      <td>3.0</td>\n",
       "      <td>2.0</td>\n",
       "      <td>80.116085</td>\n",
       "      <td>60.743048</td>\n",
       "    </tr>\n",
       "  </tbody>\n",
       "</table>\n",
       "</div>"
      ],
      "text/plain": [
       "             id  gen_id  story_score  gen_story_score\n",
       "p_length                                             \n",
       "256_tokens  3.0     7.0    80.116085        77.548570\n",
       "512_tokens  3.0    12.0    80.116085        75.679659\n",
       "first_line  3.0     2.0    80.116085        60.743048"
      ]
     },
     "execution_count": 53,
     "metadata": {},
     "output_type": "execute_result"
    }
   ],
   "source": [
    "all_stories_opt.groupby(by=['p_length']).mean()"
   ]
  }
 ],
 "metadata": {
  "kernelspec": {
   "display_name": "env",
   "language": "python",
   "name": "python3"
  },
  "language_info": {
   "codemirror_mode": {
    "name": "ipython",
    "version": 3
   },
   "file_extension": ".py",
   "mimetype": "text/x-python",
   "name": "python",
   "nbconvert_exporter": "python",
   "pygments_lexer": "ipython3",
   "version": "3.9.12"
  },
  "orig_nbformat": 4
 },
 "nbformat": 4,
 "nbformat_minor": 2
}
